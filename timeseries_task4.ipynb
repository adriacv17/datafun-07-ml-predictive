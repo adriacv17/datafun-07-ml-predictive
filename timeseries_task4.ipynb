{
 "cells": [
  {
   "cell_type": "markdown",
   "metadata": {},
   "source": [
    "<span style=\"color:orange;font-weight:700;font-size:20px\">\n",
    "\n",
    "# Task 4 - Time Series and Simple Linear Regression <br>\n",
    "</span>\n",
    "\n",
    "Author: [Adrian Vega](https://github.com/adriacv17) <br >Respository: [datafun-07-ml-predictive](https://github.com/adriacv17/datafun-07-ml-predictive) <br> Data: 10/02/2023 <br>Implement 10.16 and 15.4\n"
   ]
  },
  {
   "cell_type": "markdown",
   "metadata": {},
   "source": [
    "## Part 1 - Linear Regression"
   ]
  },
  {
   "cell_type": "markdown",
   "metadata": {},
   "source": [
    "### Celsius vs Fahrenheit Conversion"
   ]
  },
  {
   "cell_type": "code",
   "execution_count": null,
   "metadata": {},
   "outputs": [],
   "source": [
    "import pandas as pd #import libraries\n",
    "\n",
    "\n",
    "# c = 5/9 * (f-32) conversion equation from Fahrenheit to Celsius\n",
    "\n",
    "c = lambda f:5/9 * (f-32) # conversion using above formula\n",
    "temps = [(f,c(f)) for f in range(0 ,101, 10)] #calculate Celsius equivalents of Fahrenheit 0-100 in 10 degree increments"
   ]
  },
  {
   "cell_type": "markdown",
   "metadata": {},
   "source": [
    "### Place data in DataFrame"
   ]
  },
  {
   "cell_type": "code",
   "execution_count": null,
   "metadata": {},
   "outputs": [],
   "source": [
    "temps_df= pd.DataFrame(temps, columns=['Fahrenheit', 'Celsius']) #data frame created from tuple conversion above.\n"
   ]
  },
  {
   "cell_type": "markdown",
   "metadata": {},
   "source": [
    "### Plot DataFrame Celsius vs Fahrenheit"
   ]
  },
  {
   "cell_type": "code",
   "execution_count": null,
   "metadata": {},
   "outputs": [],
   "source": [
    "axes = temps_df.plot(x='Fahrenheit', y='Celsius', style='.-') #plot method for labeling and line style(y label only labels legend)\n",
    "y_label = axes.set_ylabel('Celsius') # set label for dependent variable y axis"
   ]
  },
  {
   "cell_type": "markdown",
   "metadata": {},
   "source": [
    "### Section 1 - Load: Follow the instructions to load NY City January high temperature from a csv file into a DataFrame"
   ]
  },
  {
   "cell_type": "code",
   "execution_count": null,
   "metadata": {},
   "outputs": [],
   "source": [
    "nyc = pd.read_csv('ave_hi_nyc_jan_1895-2018.csv') # load CSV into DataFrame\n",
    "\n",
    "nyc #call DataFrame"
   ]
  },
  {
   "cell_type": "markdown",
   "metadata": {},
   "source": [
    "### Section 2 - View: Follow the instructions to view head and tail of the file. "
   ]
  },
  {
   "cell_type": "markdown",
   "metadata": {},
   "source": [
    "#### Head of DataFrame"
   ]
  },
  {
   "cell_type": "code",
   "execution_count": null,
   "metadata": {},
   "outputs": [],
   "source": [
    "nyc.head() #view head of file\n"
   ]
  },
  {
   "cell_type": "markdown",
   "metadata": {},
   "source": [
    "#### Tail of DataFrame"
   ]
  },
  {
   "cell_type": "code",
   "execution_count": null,
   "metadata": {},
   "outputs": [],
   "source": [
    "nyc.tail() # view tail of file"
   ]
  },
  {
   "cell_type": "markdown",
   "metadata": {},
   "source": [
    "### Section 3 - Clean: Follow the instructions to clean the data."
   ]
  },
  {
   "cell_type": "code",
   "execution_count": null,
   "metadata": {},
   "outputs": [],
   "source": [
    "nyc.columns= ['Date', 'Temperature', 'Anomaly'] # Renaming value to temperature for readablity\n",
    "\n",
    "nyc.head(3) #show top 3 to confirm change"
   ]
  },
  {
   "cell_type": "code",
   "execution_count": null,
   "metadata": {},
   "outputs": [],
   "source": [
    "# Removing the 01(January) from the Date column\n",
    "\n",
    "#first check type of data\n",
    "nyc.Date.dtype\n"
   ]
  },
  {
   "cell_type": "code",
   "execution_count": null,
   "metadata": {},
   "outputs": [],
   "source": [
    "#data type is int, use floordiv to divide 100 to truncate the last two digits\n",
    "nyc.Date = nyc.Date.floordiv(100)\n",
    "\n",
    "nyc.head(3) #call head of DataFrame"
   ]
  },
  {
   "cell_type": "markdown",
   "metadata": {},
   "source": [
    "### Section 4 - Describe: Use describe() to calculate basic descriptive statistics for the dataset. "
   ]
  },
  {
   "cell_type": "code",
   "execution_count": null,
   "metadata": {},
   "outputs": [],
   "source": [
    "pd.set_option('display.precision', 2) #format for floating-point values\n",
    "\n",
    "nyc.Temperature.describe() #call describe() function on Temperature column"
   ]
  },
  {
   "cell_type": "markdown",
   "metadata": {},
   "source": [
    "### Section 5 - Calculate Line: Use the SciPy stats module linregress function to calculate slope and intercept for the best fit line through the data."
   ]
  },
  {
   "cell_type": "code",
   "execution_count": null,
   "metadata": {},
   "outputs": [],
   "source": [
    "from scipy import stats #import stats module from Scientific Python Library(SciPy)\n",
    "\n",
    "linear_regression = stats.linregress(x=nyc.Date, y=nyc.Temperature) #Use linregress fuction from stats module to calculate slope and intercept\n"
   ]
  },
  {
   "cell_type": "markdown",
   "metadata": {},
   "source": [
    "#### Slope"
   ]
  },
  {
   "cell_type": "code",
   "execution_count": null,
   "metadata": {},
   "outputs": [],
   "source": [
    "linear_regression.slope #call slope "
   ]
  },
  {
   "cell_type": "markdown",
   "metadata": {},
   "source": [
    "#### Intercept"
   ]
  },
  {
   "cell_type": "code",
   "execution_count": null,
   "metadata": {},
   "outputs": [],
   "source": [
    "linear_regression.intercept #call intercept"
   ]
  },
  {
   "cell_type": "markdown",
   "metadata": {},
   "source": [
    "### Section 6 - Predict: Use your results to predict the \"average high temp in Jan\" for the year 2026."
   ]
  },
  {
   "cell_type": "code",
   "execution_count": null,
   "metadata": {},
   "outputs": [],
   "source": [
    "linear_regression.slope * 2026 + linear_regression.intercept #add year(x) to equation y = mx + b "
   ]
  },
  {
   "cell_type": "markdown",
   "metadata": {},
   "source": [
    "### Section 7 - Plot: Follow the instructions and use Seaborn to generate a scatter plot with a best fit line. Set the axes and y limit as instructed."
   ]
  },
  {
   "cell_type": "code",
   "execution_count": null,
   "metadata": {},
   "outputs": [],
   "source": [
    "import seaborn as sns #import seaborn\n",
    "\n",
    "sns.set_style('whitegrid') #select style of grid using set_style\n",
    "\n",
    "axes = sns.regplot(x=nyc.Date, y=nyc.Temperature) # name variables to plot for x and y\n",
    "\n",
    "axes.set_ylim(10, 70) #scale the y-axis from 21.5 degree range to 60 degree range(10-70)"
   ]
  },
  {
   "cell_type": "markdown",
   "metadata": {},
   "source": [
    "## Part 2 - Machine Learning"
   ]
  },
  {
   "cell_type": "markdown",
   "metadata": {},
   "source": [
    "### Initial Set-up"
   ]
  },
  {
   "cell_type": "code",
   "execution_count": null,
   "metadata": {},
   "outputs": [],
   "source": [
    "import pandas as pd\n",
    "\n",
    "nyc = pd.read_csv('ave_hi_nyc_jan_1895-2018.csv')  #load csv into DataFrame\n",
    "\n",
    "nyc.columns= ['Date','Temperature', 'Anomaly'] #rename 'Value' column as 'Temperature'\n",
    "\n",
    "nyc.Date = nyc.Date.floordiv(100) #remove 01 from end of date by using floordiv\n",
    "\n",
    "nyc.head(3) # call head to find out if changes occured"
   ]
  },
  {
   "cell_type": "markdown",
   "metadata": {},
   "source": [
    "### Splitting Data for Training and Testing"
   ]
  },
  {
   "cell_type": "code",
   "execution_count": null,
   "metadata": {},
   "outputs": [],
   "source": [
    "from sklearn.model_selection import train_test_split #import function train_test_split from sklear.model_selection module\n",
    "\n",
    "# Return tuple of four elements using train_test_split\n",
    "#Uppercase X for samples, lowercase y used for target values\n",
    "\n",
    "X_train, X_test, y_train, y_test = train_test_split(nyc.Date.values.reshape(-1,1),  # reshape method to transform from one dimension array to two dimension\n",
    "                                                     nyc.Temperature.values, random_state=11)\n",
    "\n",
    "#Confirm Split\n",
    "print(f'Train = ',X_train.shape)\n",
    "print(f'Test = ', X_test.shape)"
   ]
  },
  {
   "cell_type": "markdown",
   "metadata": {},
   "source": [
    "### Training the Model"
   ]
  },
  {
   "cell_type": "code",
   "execution_count": null,
   "metadata": {},
   "outputs": [],
   "source": [
    "from sklearn.linear_model import LinearRegression #import function LinearRegression to train LinearRegression estimator\n",
    "\n",
    "linear_regression=LinearRegression()\n",
    "\n",
    "linear_regression.fit(X=X_train, y=y_train) #fit returns the estimator and train\n",
    "\n"
   ]
  },
  {
   "cell_type": "markdown",
   "metadata": {},
   "source": [
    "#### Calling Slope and Intercept"
   ]
  },
  {
   "cell_type": "code",
   "execution_count": null,
   "metadata": {},
   "outputs": [],
   "source": [
    "linear_regression.coef_ #Slope stored in estimator's coeff_ attribute"
   ]
  },
  {
   "cell_type": "code",
   "execution_count": null,
   "metadata": {},
   "outputs": [],
   "source": [
    "linear_regression.intercept_ #intercept stored in estimator's intercept_ attribute"
   ]
  },
  {
   "cell_type": "markdown",
   "metadata": {},
   "source": [
    "### Testing the Model"
   ]
  },
  {
   "cell_type": "code",
   "execution_count": null,
   "metadata": {},
   "outputs": [],
   "source": [
    "predicted = linear_regression.predict(X_test)\n",
    "\n",
    "expected = y_test #assign expected from tuple that was split\n",
    "\n",
    "# Display predicted and expected for every 5th element\n",
    "for p, e in zip(predicted[::5], expected[::5]):  \n",
    "    print(f'predicted: {p:.2f}, expected: {e:.2f}') #print as function for readability"
   ]
  },
  {
   "cell_type": "markdown",
   "metadata": {},
   "source": [
    "### Predicting Future Temperture and Estimating Past Temperature"
   ]
  },
  {
   "cell_type": "code",
   "execution_count": null,
   "metadata": {},
   "outputs": [],
   "source": [
    "# y = mx + b\n",
    "# coef_ as m and intercept_ as b\n",
    "\n",
    "predict =(lambda x: linear_regression.coef_ * x +linear_regression.intercept_) #formula as y = mx+b by plugging in year as x using lambda as function\n",
    "\n",
    "print(f' 2019 prediction: ',predict(2019))\n",
    "print(f' 1890 prediction: ',predict(1890))"
   ]
  },
  {
   "cell_type": "markdown",
   "metadata": {},
   "source": [
    "### Visualizing the Dataset with the Regression Line"
   ]
  },
  {
   "cell_type": "code",
   "execution_count": 154,
   "metadata": {},
   "outputs": [
    {
     "data": {
      "image/png": "[encoded data removed]",
      "text/plain": [
       "<Figure size 640x480 with 1 Axes>"
      ]
     },
     "metadata": {},
     "output_type": "display_data"
    }
   ],
   "source": [
    "import seaborn as sns #import visualization library\n",
    "import numpy as np #import numpy for creating array\n",
    "import matplotlib.pyplot as plt #import to plot line on x and y coordinate points\n",
    "\n",
    "# set up scatterplot using seaborn's scatterplot function\n",
    "# to arguments add data as nyc\n",
    "# to arguments name x and y columns\n",
    "# add dot colors using hue\n",
    "# add Matplotlib color map using palette for dot colors\n",
    "# legend false to not show a legend\n",
    "axes = sns.scatterplot(data=nyc, x='Date', y='Temperature', hue='Temperature', palette='winter', legend=False) \n",
    "axes.set_ylim(10, 70) #scale the y-axis range values to see linear relationship better\n",
    "\n",
    "x= np.array([min(nyc.Date.values), max(nyc.Date.values)])\n",
    "y= predict(x)\n",
    "line = plt.plot(x, y) #plotting line using matplotlib"
   ]
  },
  {
   "cell_type": "markdown",
   "metadata": {},
   "source": [
    "### Comparing Two Linear-Regression Methods"
   ]
  },
  {
   "cell_type": "markdown",
   "metadata": {},
   "source": [
    "Both methods are a good way to demonstrate and plot linear regression, but from the work and code it looks as if using Linear Regression from chapter 10 method \n",
    "was a bit easier to use. With the second method, plotting and visualization seems to be the winner as it gives you more functionality for this purpose."
   ]
  }
 ],
 "metadata": {
  "kernelspec": {
   "display_name": ".venv",
   "language": "python",
   "name": "python3"
  },
  "language_info": {
   "codemirror_mode": {
    "name": "ipython",
    "version": 3
   },
   "file_extension": ".py",
   "mimetype": "text/x-python",
   "name": "python",
   "nbconvert_exporter": "python",
   "pygments_lexer": "ipython3",
   "version": "3.11.4"
  },
  "orig_nbformat": 4
 },
 "nbformat": 4,
 "nbformat_minor": 2
}
